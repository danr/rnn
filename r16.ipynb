{
 "cells": [
  {
   "cell_type": "markdown",
   "metadata": {},
   "source": [
    "# Exercise: predictions from 16S ribosomal RNA\n",
    "\n",
    "This exercise is about making predictions of [16S ribosomal RNA](https://en.wikipedia.org/wiki/16S_ribosomal_RNA), inspired by the experiment in [_A deep learning approach to pattern recognition for short DNA sequences_ by Busia et al (preprint, 2019)](https://www.biorxiv.org/content/10.1101/353474v2). The data is 20,300 16Ss ribosomal RNA reference sequences from the NCBI Bacterial 16S Ribosomal RNA RefSeq Targeted Loci Project ([BioProject 33175](https://www.ncbi.nlm.nih.gov/bioproject?db=bioproject&Cmd=DetailsSearch&Term=33175%5Buid%5D), downloaded 2020-11-18). A set of subsequences of length 100 as synthetic reads were extracted from the dataset paired up with their taxonomic order.\n",
    "\n",
    "The data set was created like this: the reference sequences with the 10 most common orders were used, the rest discarded. The sequences were uniformly put either in a train or a validation set. For each of the sets train and validation we:\n",
    "* sample a order uniformly,\n",
    "* sample a sequence of that order uniformly,\n",
    "* sample from that sequence a subsequence of length 100 uniformly.\n",
    "\n",
    "This gives us 10 equally balanced classes and no overlap between train and validation. For reference: [repo for dataset creation](https://github.com/danr/rnn/).\n",
    "\n",
    "## Preparation 1: download and examine the data files\n",
    "\n",
    "Provided preprocessed files are in gzipped csv. Use `wget` directly in the notebook to download."
   ]
  },
  {
   "cell_type": "code",
   "execution_count": 1,
   "metadata": {},
   "outputs": [],
   "source": [
    "%%bash\n",
    "wget https://github.com/danr/rnn/raw/main/r16-order-{test,train}.csv.gz --no-verbose --no-clobber"
   ]
  },
  {
   "cell_type": "code",
   "execution_count": 2,
   "metadata": {},
   "outputs": [
    {
     "name": "stdout",
     "output_type": "stream",
     "text": [
      "r16-order-test.csv.gz  r16-order-train.csv.gz\n"
     ]
    }
   ],
   "source": [
    "!ls r16-order*gz"
   ]
  },
  {
   "cell_type": "code",
   "execution_count": 3,
   "metadata": {},
   "outputs": [
    {
     "name": "stdout",
     "output_type": "stream",
     "text": [
      "class,seq,order\n",
      "8,CAAGGCGACGATCAGYAGCCGACCTGAGAGGGTGCACCSGCCACATTGGGACTGAGACACGGCCCAAACTCCTACGGGAGGCAGCAGTGGGGAATATTGC,Clostridiales\n",
      "6,CCACATGGCTTTTGTTTGAAAGATGGCTTTGGCTATCACTCTGGGATGGACCTGCGGTGCATTAGCTAGTTGGTAAGGTAATGGCTTACCAAGGCGATGA,Lactobacillales\n",
      "6,CTTTCCGGGGCTTAGTGCCGGAGCTAACGCATTAAGCACTCCGCCTGGGGAGTACGACCGCAAGGTTGAAACTCAAAGGAATTGACGGGGGCCCGCACAA,Lactobacillales\n",
      "5,GCCAACTACGTGCCAGCAGCCGCGGTAATACGTAGGGTGCGAGCGTTGTCCGGAATTACTGGGCGTAAAGAGCTTGTAGGCGGCTTGTCGCGTCGATCGT,Corynebacteriales\n",
      "4,ACGGGAGGCAGCAGTGGGGAATATTGGACAATGGGCGCAAGCCTGATCCAGCCATGCCGCGTGAGTGATGAAGGCCTTAGGGTTGTAAAGCTCTTTCGTC,Rhizobiales\n",
      "2,ATATGTAGTGTAGCGGTGAAATGCTTAGATATTACATAGAATACCGATTGCGAAGGCAGGTCACTAACAACGCATTGACGCTGATGGACGAAAGCGTGGG,Flavobacteriales\n",
      "5,GCGTGCTTAACACATGCAAGTCGAGCGGTAAGGCCCTTCGGGGTACACGAGCGGCGAACGGGTGAGTAACACGTGGGTGATCTGCCCTGCACTTCGGGAT,Corynebacteriales\n",
      "5,TAGAAGAAGCACCGGCCAACTACGTGCCAGCAGCCGCGGTAATACGTAGGGTGCGAGCGTTGTCCGGAATTACTGGGCGTAAAGAGCTTGTAGGCGGTTT,Corynebacteriales\n",
      "3,CGCCGCAGCTAACGCATTAAGTGCCCCGCCTGGGGAGTACGGCCGCAAGGCTAAAACTCAAAGGAATTGACGGGGGCCCGCACAAGCGGCGGAGCATGCG,Micrococcales\n",
      "\n",
      "gzip: stdout: Broken pipe\n"
     ]
    }
   ],
   "source": [
    "!zcat r16-order-train.csv.gz | head"
   ]
  },
  {
   "cell_type": "markdown",
   "metadata": {},
   "source": [
    "## Preparation 2: crash-course on numpy arrays of ascii-encoded data\n",
    "\n",
    "To start off with we are going to consider models that process one nucleotide base at a time: character-level data. Data is encoded using the character's ascii representation. The benefit of this is that we work with code that can be used for other kinds of inputs such as amino acid sequences or text. \n",
    "\n",
    "In python we can convert between characters and their ascii code point with:\n",
    "* `ord` to get the code point for a character, try `ord('A')`.\n",
    "* `chr` to get the character for a code point, try `chr(67)`.\n",
    "\n",
    "**Question**: what ascii code points do A, C, G, T correspond to?"
   ]
  },
  {
   "cell_type": "code",
   "execution_count": 4,
   "metadata": {},
   "outputs": [
    {
     "data": {
      "text/plain": [
       "(65, 67, 71, 84)"
      ]
     },
     "execution_count": 4,
     "metadata": {},
     "output_type": "execute_result"
    }
   ],
   "source": [
    "ord('A'), ord('C'), ord('G'), ord('T')"
   ]
  },
  {
   "cell_type": "markdown",
   "metadata": {},
   "source": [
    "**`str` to `bytes`**: Transform strings to bytes objects by encoding to ascii. Bytes objects can also be created using literals starting with `b'`. "
   ]
  },
  {
   "cell_type": "code",
   "execution_count": 5,
   "metadata": {},
   "outputs": [
    {
     "data": {
      "text/plain": [
       "b'CATATTAC'"
      ]
     },
     "execution_count": 5,
     "metadata": {},
     "output_type": "execute_result"
    }
   ],
   "source": [
    "'CATATTAC'.encode('ascii')"
   ]
  },
  {
   "cell_type": "markdown",
   "metadata": {},
   "source": [
    "**`bytes` to `np.ndarray`:** In numpy bytes objects are transformed to arrays with the `np.frombuffer` function. Specify bytes with `np.uint8` to make each byte an array element. What happens if you give it a string instead?"
   ]
  },
  {
   "cell_type": "code",
   "execution_count": 6,
   "metadata": {},
   "outputs": [],
   "source": [
    "import numpy as np"
   ]
  },
  {
   "cell_type": "code",
   "execution_count": 7,
   "metadata": {},
   "outputs": [
    {
     "data": {
      "text/plain": [
       "numpy.ndarray"
      ]
     },
     "execution_count": 7,
     "metadata": {},
     "output_type": "execute_result"
    }
   ],
   "source": [
    "type(np.frombuffer(b'CATATTAC', np.uint8))"
   ]
  },
  {
   "cell_type": "markdown",
   "metadata": {},
   "source": [
    "### Preparation 3: import the csv\n",
    "\n",
    "Use pandas to import the csv."
   ]
  },
  {
   "cell_type": "code",
   "execution_count": 8,
   "metadata": {},
   "outputs": [],
   "source": [
    "import pandas as pd"
   ]
  },
  {
   "cell_type": "code",
   "execution_count": 9,
   "metadata": {},
   "outputs": [],
   "source": [
    "train = pd.read_csv('./r16-order-train.csv.gz')\n",
    "test = pd.read_csv('./r16-order-test.csv.gz')"
   ]
  },
  {
   "cell_type": "code",
   "execution_count": 10,
   "metadata": {},
   "outputs": [
    {
     "data": {
      "text/html": [
       "<div>\n",
       "<style scoped>\n",
       "    .dataframe tbody tr th:only-of-type {\n",
       "        vertical-align: middle;\n",
       "    }\n",
       "\n",
       "    .dataframe tbody tr th {\n",
       "        vertical-align: top;\n",
       "    }\n",
       "\n",
       "    .dataframe thead th {\n",
       "        text-align: right;\n",
       "    }\n",
       "</style>\n",
       "<table border=\"1\" class=\"dataframe\">\n",
       "  <thead>\n",
       "    <tr style=\"text-align: right;\">\n",
       "      <th></th>\n",
       "      <th>class</th>\n",
       "    </tr>\n",
       "  </thead>\n",
       "  <tbody>\n",
       "    <tr>\n",
       "      <th>count</th>\n",
       "      <td>262140.000000</td>\n",
       "    </tr>\n",
       "    <tr>\n",
       "      <th>mean</th>\n",
       "      <td>4.500000</td>\n",
       "    </tr>\n",
       "    <tr>\n",
       "      <th>std</th>\n",
       "      <td>2.872287</td>\n",
       "    </tr>\n",
       "    <tr>\n",
       "      <th>min</th>\n",
       "      <td>0.000000</td>\n",
       "    </tr>\n",
       "    <tr>\n",
       "      <th>25%</th>\n",
       "      <td>2.000000</td>\n",
       "    </tr>\n",
       "    <tr>\n",
       "      <th>50%</th>\n",
       "      <td>4.500000</td>\n",
       "    </tr>\n",
       "    <tr>\n",
       "      <th>75%</th>\n",
       "      <td>7.000000</td>\n",
       "    </tr>\n",
       "    <tr>\n",
       "      <th>max</th>\n",
       "      <td>9.000000</td>\n",
       "    </tr>\n",
       "  </tbody>\n",
       "</table>\n",
       "</div>"
      ],
      "text/plain": [
       "               class\n",
       "count  262140.000000\n",
       "mean        4.500000\n",
       "std         2.872287\n",
       "min         0.000000\n",
       "25%         2.000000\n",
       "50%         4.500000\n",
       "75%         7.000000\n",
       "max         9.000000"
      ]
     },
     "execution_count": 10,
     "metadata": {},
     "output_type": "execute_result"
    }
   ],
   "source": [
    "test.describe()"
   ]
  },
  {
   "cell_type": "markdown",
   "metadata": {},
   "source": [
    "To use `np.frombuffer` we need to get the bytes of the `seq` column of the data frames. This can be done with `.astype('bytes').values` on a `pd.Series`:"
   ]
  },
  {
   "cell_type": "code",
   "execution_count": 11,
   "metadata": {},
   "outputs": [
    {
     "data": {
      "text/plain": [
       "array([b'CAAGGCGACGATCAGYAGCCGACCTGAGAGGGTGCACCSGCCACATTGGGACTGAGACACGGCCCAAACTCCTACGGGAGGCAGCAGTGGGGAATATTGC',\n",
       "       b'CCACATGGCTTTTGTTTGAAAGATGGCTTTGGCTATCACTCTGGGATGGACCTGCGGTGCATTAGCTAGTTGGTAAGGTAATGGCTTACCAAGGCGATGA',\n",
       "       b'CTTTCCGGGGCTTAGTGCCGGAGCTAACGCATTAAGCACTCCGCCTGGGGAGTACGACCGCAAGGTTGAAACTCAAAGGAATTGACGGGGGCCCGCACAA',\n",
       "       ...,\n",
       "       b'AGATGGGCCTGCGGTGCATTAGCTAGTTGGTGGGGTAACGGCTCACCAAGGCGACGATGCATAGCCGACCTGAGAGGGTGATCGGCCACACTGGGACTGA',\n",
       "       b'AGGGTGGGCACTCTGAATTGACTGCCGGTGACAAACCGGAGGAAGGCGGGGATGACGTCAAATCATCATGCCCCTTATGACCTGGGCTACACACGTACTA',\n",
       "       b'CGCCCTTCGGGGTGAGCGGCGGACGGGTTAGTAACGCGTGGGAACGTACCCAGATCTACGGAATAGCCTTTGGAAACGAAGAGTAATACCGTATACGCCC'],\n",
       "      dtype='|S100')"
      ]
     },
     "execution_count": 11,
     "metadata": {},
     "output_type": "execute_result"
    }
   ],
   "source": [
    "train.seq.astype('bytes').values"
   ]
  },
  {
   "cell_type": "code",
   "execution_count": 12,
   "metadata": {},
   "outputs": [],
   "source": [
    "def bytes2array(bs):\n",
    "    return np.frombuffer(np.array(bs), np.uint8).reshape(len(bs), -1)"
   ]
  },
  {
   "cell_type": "markdown",
   "metadata": {},
   "source": [
    "Now we can create the test and train data arrays:"
   ]
  },
  {
   "cell_type": "code",
   "execution_count": 13,
   "metadata": {},
   "outputs": [
    {
     "data": {
      "text/plain": [
       "((262140, 100), (262140, 100))"
      ]
     },
     "execution_count": 13,
     "metadata": {},
     "output_type": "execute_result"
    }
   ],
   "source": [
    "X_train = bytes2array(train.seq.astype('bytes').values)\n",
    "X_test  = bytes2array(test.seq.astype('bytes').values)\n",
    "X_train.shape, X_test.shape"
   ]
  },
  {
   "cell_type": "markdown",
   "metadata": {},
   "source": [
    "**Question:** Are the array shapes the expected shapes?"
   ]
  },
  {
   "cell_type": "markdown",
   "metadata": {},
   "source": [
    "You can view the bytes of a single sequence with `.tobytes`:"
   ]
  },
  {
   "cell_type": "code",
   "execution_count": 14,
   "metadata": {},
   "outputs": [
    {
     "data": {
      "text/plain": [
       "b'CAAGGCGACGATCAGYAGCCGACCTGAGAGGGTGCACCSGCCACATTGGGACTGAGACACGGCCCAAACTCCTACGGGAGGCAGCAGTGGGGAATATTGC'"
      ]
     },
     "execution_count": 14,
     "metadata": {},
     "output_type": "execute_result"
    }
   ],
   "source": [
    "X_train[0].tobytes()"
   ]
  },
  {
   "cell_type": "markdown",
   "metadata": {},
   "source": [
    "**Question:** Is this an actual sequence from the training data csv file?"
   ]
  },
  {
   "cell_type": "markdown",
   "metadata": {},
   "source": [
    "Create the label arrays."
   ]
  },
  {
   "cell_type": "code",
   "execution_count": 15,
   "metadata": {},
   "outputs": [
    {
     "data": {
      "text/plain": [
       "((262140,), (262140,))"
      ]
     },
     "execution_count": 15,
     "metadata": {},
     "output_type": "execute_result"
    }
   ],
   "source": [
    "Y_train = train['class'].values\n",
    "Y_test  = test['class'].values\n",
    "Y_train.shape, Y_test.shape"
   ]
  },
  {
   "cell_type": "markdown",
   "metadata": {},
   "source": [
    "**Question:** Are the shapes correct?"
   ]
  },
  {
   "cell_type": "markdown",
   "metadata": {},
   "source": [
    "A simple way to get some stats for the labels is to convert them to a `pd.Series` and `.describe()` it. Another way is to plot `.hist()`."
   ]
  },
  {
   "cell_type": "code",
   "execution_count": 16,
   "metadata": {},
   "outputs": [
    {
     "data": {
      "text/plain": [
       "count    262140.000000\n",
       "mean          4.500000\n",
       "std           2.872287\n",
       "min           0.000000\n",
       "25%           2.000000\n",
       "50%           4.500000\n",
       "75%           7.000000\n",
       "max           9.000000\n",
       "dtype: float64"
      ]
     },
     "execution_count": 16,
     "metadata": {},
     "output_type": "execute_result"
    },
    {
     "data": {
      "image/png": "[encoded data removed]",
      "text/plain": [
       "<Figure size 432x288 with 1 Axes>"
      ]
     },
     "metadata": {
      "needs_background": "light"
     },
     "output_type": "display_data"
    }
   ],
   "source": [
    "pd.Series(Y_train).hist()\n",
    "pd.Series(Y_train).describe()"
   ]
  },
  {
   "cell_type": "markdown",
   "metadata": {},
   "source": [
    "**Question:** Are the statistics for the test set labels sensible?"
   ]
  },
  {
   "cell_type": "code",
   "execution_count": 17,
   "metadata": {},
   "outputs": [
    {
     "data": {
      "text/plain": [
       "['Bacillales',\n",
       " 'Streptomycetales',\n",
       " 'Flavobacteriales',\n",
       " 'Micrococcales',\n",
       " 'Rhizobiales',\n",
       " 'Corynebacteriales',\n",
       " 'Lactobacillales',\n",
       " 'Burkholderiales',\n",
       " 'Clostridiales',\n",
       " 'Rhodobacterales']"
      ]
     },
     "execution_count": 17,
     "metadata": {},
     "output_type": "execute_result"
    }
   ],
   "source": [
    "# Getting the class names\n",
    "classes = [train[train['class'] == i].iloc[0]['order'] for i in range(10)]\n",
    "classes"
   ]
  },
  {
   "cell_type": "markdown",
   "metadata": {},
   "source": [
    "## Task 1: Make a model and fit the data\n",
    "\n",
    "Expriment to make a model and fit the data.\n",
    "\n",
    "Spend a little bit of time to this but reserve some time for later tasks. The quality of your model you make now does not matter: you will be provided an already trained model."
   ]
  },
  {
   "cell_type": "code",
   "execution_count": 18,
   "metadata": {},
   "outputs": [],
   "source": [
    "import tensorflow as tf\n",
    "import tensorflow.keras as K\n",
    "import tensorflow.keras.layers as L"
   ]
  },
  {
   "cell_type": "code",
   "execution_count": null,
   "metadata": {},
   "outputs": [],
   "source": [
    "x = inp = K.Input((None, ))\n",
    "x = L.Embedding(128, ...)(x)   # 128 = number of ascii code points\n",
    "\n",
    "## You can try using LSTM:\n",
    "# x = L.LSTM(...)(x)\n",
    "\n",
    "## You can try using GRU:\n",
    "# x = L.GRU(...)(x)\n",
    "\n",
    "## You can try the bidirectional variant:\n",
    "# x = L.Bidirectional(...)(x)\n",
    "\n",
    "## ... or your ideas\n",
    "\n",
    "# Final classification layer\n",
    "x = L.Dense(units=..., activation=...)(x)\n",
    "\n",
    "M = K.Model(inputs=inp, outputs=x)\n",
    "\n",
    "M.compile(loss='sparse_categorical_crossentropy',\n",
    "          optimizer='adam',\n",
    "          metrics=['acc'])\n",
    "\n",
    "M.summary()"
   ]
  },
  {
   "cell_type": "code",
   "execution_count": null,
   "metadata": {},
   "outputs": [],
   "source": [
    "M.fit(X_train, Y_train, epochs=10, validation_data=(X_test, Y_test))"
   ]
  },
  {
   "cell_type": "markdown",
   "metadata": {},
   "source": [
    "### Example solution task 1\n",
    "\n",
    "Two bidirectional LSTMs using a small dropout with a softmax on top."
   ]
  },
  {
   "cell_type": "code",
   "execution_count": null,
   "metadata": {},
   "outputs": [],
   "source": [
    "x = i = K.Input((None, ))\n",
    "x = L.Embedding(128, 128)(x)\n",
    "x = L.Bidirectional(L.LSTM(512, dropout=0.1, return_sequences=True))(x)\n",
    "x = L.Bidirectional(L.LSTM(512, dropout=0.1))(x)\n",
    "x = L.Dense(10, 'softmax')(x)\n",
    "\n",
    "M = K.Model(inputs=i, outputs=x)\n",
    "\n",
    "M.compile(loss='sparse_categorical_crossentropy', metrics=['acc'])\n",
    "\n",
    "M.summary()"
   ]
  },
  {
   "cell_type": "markdown",
   "metadata": {},
   "source": [
    "## Task 2: Examine model predictions\n",
    "\n",
    "In this task you can download an already trained model or use your model from the previous task. "
   ]
  },
  {
   "cell_type": "code",
   "execution_count": 19,
   "metadata": {},
   "outputs": [],
   "source": [
    "!wget https://github.com/danr/rnn/raw/main/r16S.h5 --no-verbose --no-clobber"
   ]
  },
  {
   "cell_type": "code",
   "execution_count": 20,
   "metadata": {},
   "outputs": [
    {
     "name": "stdout",
     "output_type": "stream",
     "text": [
      "Model: \"model\"\n",
      "_________________________________________________________________\n",
      "Layer (type)                 Output Shape              Param #   \n",
      "=================================================================\n",
      "input_1 (InputLayer)         [(None, None)]            0         \n",
      "_________________________________________________________________\n",
      "embedding (Embedding)        (None, None, 8)           1024      \n",
      "_________________________________________________________________\n",
      "bidirectional (Bidirectional (None, None, 64)          10496     \n",
      "_________________________________________________________________\n",
      "bidirectional_1 (Bidirection (None, 64)                24832     \n",
      "_________________________________________________________________\n",
      "dense (Dense)                (None, 10)                650       \n",
      "=================================================================\n",
      "Total params: 37,002\n",
      "Trainable params: 37,002\n",
      "Non-trainable params: 0\n",
      "_________________________________________________________________\n"
     ]
    }
   ],
   "source": [
    "# Keras model loading seems broken if you try to import the entire graph.\n",
    "# You get a model but it is very slow to fit and evaluate.\n",
    "# Instead we give the graph like this and then load the weights:\n",
    "\n",
    "def load_pretrained():\n",
    "    x = i = K.Input((None, ))\n",
    "    x = L.Embedding(128, 8)(x)\n",
    "    x = L.Bidirectional(L.LSTM(32, dropout=0.1, return_sequences=True))(x)\n",
    "    x = L.Bidirectional(L.LSTM(32, dropout=0.1))(x)\n",
    "    x = L.Dense(10, 'softmax')(x)\n",
    "\n",
    "    M = K.Model(inputs=i, outputs=x)\n",
    "\n",
    "    M.compile(loss='sparse_categorical_crossentropy', metrics=['acc'])\n",
    "\n",
    "    M.summary()\n",
    "    M.load_weights('r16S.h5')\n",
    "    return M\n",
    "\n",
    "MM = load_pretrained()"
   ]
  },
  {
   "cell_type": "code",
   "execution_count": 21,
   "metadata": {},
   "outputs": [
    {
     "name": "stdout",
     "output_type": "stream",
     "text": [
      "1000/1000 [==============================] - 3s 3ms/sample - loss: 0.0798 - acc: 0.9730\n"
     ]
    },
    {
     "data": {
      "text/plain": [
       "[0.0798223021812737, 0.973]"
      ]
     },
     "execution_count": 21,
     "metadata": {},
     "output_type": "execute_result"
    }
   ],
   "source": [
    "MM.evaluate(X_test[:1000], Y_test[:1000])"
   ]
  },
  {
   "cell_type": "markdown",
   "metadata": {},
   "source": [
    "One way to look at what the model does is to see what it predicts on small subsequences. We use a sliding window over the sequence of some width."
   ]
  },
  {
   "cell_type": "code",
   "execution_count": 22,
   "metadata": {},
   "outputs": [
    {
     "data": {
      "text/plain": [
       "[b'ABCD', b'BCDE', b'CDEF', b'DEFG']"
      ]
     },
     "execution_count": 22,
     "metadata": {},
     "output_type": "execute_result"
    }
   ],
   "source": [
    "def slide(seq, width, step=1):\n",
    "    return [ seq[i:i+width] for i in range(0, len(seq) - width + 1, step) ]\n",
    "\n",
    "# Example:\n",
    "slide(b'ABCDEFG', 4)"
   ]
  },
  {
   "cell_type": "code",
   "execution_count": 23,
   "metadata": {},
   "outputs": [
    {
     "data": {
      "text/plain": [
       "array([[65, 66, 67, 68],\n",
       "       [66, 67, 68, 69],\n",
       "       [67, 68, 69, 70],\n",
       "       [68, 69, 70, 71]], dtype=uint8)"
      ]
     },
     "execution_count": 23,
     "metadata": {},
     "output_type": "execute_result"
    }
   ],
   "source": [
    "bytes2array(slide(b'ABCDEFG', 4))"
   ]
  },
  {
   "cell_type": "code",
   "execution_count": 24,
   "metadata": {},
   "outputs": [
    {
     "data": {
      "text/plain": [
       "(b'GTGGGGAGCAAACAGGATTAGATACCCTGGTAGTCCACGCCCTAAACGATGTCAACTAGTTGTCGGGTCTTCATTGACTTGGTAACGTAGCTAACGCGTG',\n",
       " 7)"
      ]
     },
     "execution_count": 24,
     "metadata": {},
     "output_type": "execute_result"
    }
   ],
   "source": [
    "seq = X_test[0].tobytes()\n",
    "seq, Y_test[0]"
   ]
  },
  {
   "cell_type": "code",
   "execution_count": 25,
   "metadata": {},
   "outputs": [
    {
     "data": {
      "text/plain": [
       "array([7, 6, 6, 2, 2, 2, 2, 2, 2, 2, 2, 2, 2, 2, 2, 2, 2, 2, 2, 2, 2, 2,\n",
       "       9, 0, 4, 4, 4, 0, 0, 0, 0, 0, 0, 7, 7, 7, 0, 0, 6, 8, 8, 6, 2, 2,\n",
       "       6, 6, 6, 6, 2, 6, 1, 3, 3, 3, 3, 6, 3, 6, 6, 6, 0, 0, 6, 6, 6, 6,\n",
       "       6, 7, 2, 2, 2, 2, 2, 2, 2, 2, 2, 2, 7, 6, 7])"
      ]
     },
     "execution_count": 25,
     "metadata": {},
     "output_type": "execute_result"
    }
   ],
   "source": [
    "MM.predict(bytes2array(slide(seq, 20))).argmax(-1)"
   ]
  },
  {
   "cell_type": "code",
   "execution_count": 26,
   "metadata": {},
   "outputs": [],
   "source": [
    "import seaborn as sns"
   ]
  },
  {
   "cell_type": "code",
   "execution_count": 27,
   "metadata": {},
   "outputs": [
    {
     "data": {
      "text/plain": [
       "<matplotlib.axes._subplots.AxesSubplot at 0x7f5b64055e48>"
      ]
     },
     "execution_count": 27,
     "metadata": {},
     "output_type": "execute_result"
    },
    {
     "data": {
      "image/png": "[encoded data removed]",
      "text/plain": [
       "<Figure size 576x576 with 2 Axes>"
      ]
     },
     "metadata": {},
     "output_type": "display_data"
    }
   ],
   "source": [
    "sns.set(rc={'figure.figsize': (8, 8), \n",
    "            'font.family': 'monospace'})\n",
    "sseq = slide(seq, 20, step=2)  # Increase step if the output is too small\n",
    "sns.heatmap(MM.predict(bytes2array(sseq)), \n",
    "            yticklabels=sseq, \n",
    "            square=True, vmin=0, vmax=1)"
   ]
  },
  {
   "cell_type": "markdown",
   "metadata": {},
   "source": [
    "**Activity:** Try increasing the sliding window width and examine the result.\n",
    "\n",
    "**Activity:** Examine what the network does on other sequence inputs.\n",
    "\n",
    "**Activity:** Other things to look at: \n",
    "* individual neuron activations\n",
    "* which parts of the entire ref sequences seem to be most predictive\n",
    "* using the final states to make a phylogeny"
   ]
  },
  {
   "cell_type": "code",
   "execution_count": null,
   "metadata": {},
   "outputs": [],
   "source": [
    "seq = np.frombuffer(b'TGAACGCTGGCGGCATGCCTTACACATGCAAGTCGAACGGCAGCGCGGGAGCAATCCTGGCGGCGAGTGGCGAACGGGTGAGTAATACATCGGAACGTGCCCAATCGTGGGGGATAACGCAGCGAAAGCTGTGCTAATACCGCATACGATCTACGGATGAAAGCAGGGGATCGCAAGACCTTGCGCGAATGGAGCGGCCGATGGCAGATTAGGTAGTTGGTGAGGTAAAGGCTCACCAAGCCTTCGATCTGTAGCTGGTCTGAGAGGACGACCAGCCACACTGGGACTGAGACACGGTCCAGACTCCTACGGGAGGCAGCAGTGGGGAATTTTGGACAATGGGCGAAAGCCTGATCCAGCCATGCCGCGTGCAGGATGAAGGCCTTCGGGTTGTAAACTGCTTTTGTACGGAACGAAACGGTCTTTTCTAATACAGAAGGCTAATGACGGTACCGTAAGAATAAGCACCGGCTAACTACGTGCCAGCAGCCGCGGTAATACGTAGGGTGCAAGCGTTAATCGGAATTACTGGGCGTAAAGCGTGCGCAGGCGGTTATGTAAGACAGTTGTGAAATCCCCGGGCTCAACCTGGGAACTGCATCTGTGACTGCATAGCTAGAGTACGGTAGAGGGGGATGGAATTCCGCGTGTAGCAGTGAAATGCGTAGATATGCGGAGGAACACCGATGGCGAAGGCAATCCCCTGGACCTGTACTGACGCTCATGCACGAAAGCGTGGGGAGCAAACAGGATTAGATACCCTGGTAGTCCACGCCCTAAACGATGTCAACTGGTTGTTGGGTCTTCACTGACTCAGTAACGAAGCTAACGCGTGAAGTTGACCGCCTGGGGAGTACGGCCGCAAGGTTGAAACTCAAAGGAATTGACGGGGACCCGCACAAGCGGTGGATGATGTGGTTTAATTCGATGCAACGCGAAAAACCTTACCCACCTTTGACATGTACGGAATTCGCCAGAGATGGCTTAGTGCTCGAAAGAGAACCGTAACACAGGTGCTGCATGGCTGTCGTCAGCTCGTGTCGTGAGATGTTGGGTTAAGTCCCGCAACGAGCGCAACCCTTGTCATTAGTTGCTACATTCAGTTGGGCACTCTAATGAGACTGCCGGTGACAAACCGGAGGAAGGTGGGGATGACGTCAAGTCCTCATGGCCCTTATAGGTGGGGCTACACACGTCATACAATGGCTGGTACAAAGGGTTGCCAACCCGCGAGGGGGAGCTAATCCCATAAAACCAGTCGTAGTCCGGATCGCAGTCTGCAACTCGACTGCGTGAAGTCGGAATCGCTAGTAATCGTGGATCAGAATGTCACGGTGAATACGTTCCCGGGTCTTGTACACACCGCCCGTCACACCATGGGAGCGGGTTCTGCCAGAAGTAGTTAGCTTAACCGCAAGGAGGGCGATTACCACGGCAGGGTTCGTGACTGGGGTGAAGTCGTAACAAGGTAGCCA', np.uint8)\n",
    "seq = np.frombuffer(b'ATTGAACGCTGGCGGCATGCTTTACACATGCAAGTCGAACGGCAGCACAGGGAGCTTGCTCCCGGGTGGCGAGTGGCGCACGGGTGAGTAAGACATCGGAACGTGTCCTCTTGTGGGGGATAACTACCCGAAAGGGTGGCTAATACCGCATAAGTCCTGAGGGAGAAAGCGGGGGATCTTCGGACCTCGCGCGAGAGGAGCGGCCGATGGCCGATTAGCTAGTTGGTGAGGTAAAGGCTCACCAAGGCGACGATCGGTAGCTGGTCTGAGAGGACGACCAGCCACACTGGGACTGAGACACGGCCCAGACTCCTACGGGAGGCAGCAGTGGGGAATTTTGGACAATGGGCGAAAGCCTGATCCAGCCATGCCGCGTGTGGGATGAAGGCCTTCGGGTTGTAAACCACTTTTGTCAGGGACGAAAAGGTTCAGGCYAATACCTTGAACTGCTGACGGTACCTGAAGAATAAGCACCGGCTAACTACGTGCCAGCAGCCGCGGTAATACGTAGGGTGCAAGCGTTAATCGGAATTACTGGGCGTAAAGCGTGCGCAGGCGGTTCTGTAAGATAGATGTGAAATCCCCGGGCTTAACCTTGGAATTGCATTTATGACTGCAGGACTCGAGTTTGTCAGAGGGGGGTGGAATTCCAAGTGTAGCAGTGAAATGCGTAGATATTTGGAAGAACACCGATGGCGAAGGCAGCCCCCTGGGACATGACTGACGCTCATGCACGAAAGCGTGGGGAGCAAACAGGATTAGATACCCTGGTAGTCCACGCCCTAAACGATGTCTACTGGTTGTTGGGGACGATTTGGTCCTTGGTAACGAAGCTAACGCGTGAAGTAGACCGCCTGGGGAGTACGGTCGCAAGATTAAAACTCAAAGGAATTGACGGGGACCCGCACAAGCGGTGGATGATGTGGATTAATTCGATGCAACGCGAAAAACCTTACCTAGCCTTGACATGTCGGAAAGCTCTGAGAGATCGGAGYGTGCCCGCAAGGGAATCCGAACACAGGTGCTGCATGGCTGTCGTCAGCTCGTGTCGTGAGATGTTGGGTTAAGTCCCGCAACGAGCGCAACCCTTGTCACTAGTTGCTACGAAAGGGCACTCTAGTGAGACTGCCGGTGACAAACCGGAGGAAGGTGGGGATGACGTCAAGTCCTCATGGCCCTTATGGCTAGGGCCTCACACGTCATACAATGGTCGGAACAGAGGGCAGCGAAGCCGCGAGGTGGAGCAAATCCCAGAAAACCGATCGTAGTCCGGATTGCAGTCTGCAACTCGACTGCATGAAGTCGGAATCGCTAGTAATCGCGGATCAGCATGCCGCGGTGAATACGTTCCCGGGTCTTGTACACACCGCCCGTCACACCATGGGAGTGGGGTTCACCAGAAGACGTTTGTCTAACCGCAAGGAGGACGGCGTCCACGGTGGGTTTCATGACTGGGGTGAAGTCGTAACAAGGTAGCCGTACCGGAAGG', np.uint8)\n",
    "#seq = np.frombuffer(b'GGTACGACAGAGAAACTTGTTTCTTGGTGGCGAGCGGCGGACGGGTGAGTAATGCTTGGGAACATGCCTTTAGGTGGGGGACAACAGTTGGAAACGACTGCTAATACCGCATGATGTCTACGGACCAAAGTGGGGGACCTTCGGGCCTCACGCCTAAAGATTGCCCAAGGTGGGATTAGCTAGTTGGTGAGGTAATGGCTCACCAAGGCAACGATCTCTAGCTGGTTTGAGAGGATGATCAGCCACACTGGAACTGAGACACGGTCCAGACTCCTACGGGAGGCAGCAGTGGGGAATATTGCACAATGGGCGAAAGCTGATGCAGCCATGCCGCGTGTGTGAAGAAGGCCTTCGGGTTGTAAAGTACTTTCAGTCAGGAGGAAGGTTACGTTTTTAATAGAAGCGTAGCTGTGACGTTATCGACAGAAGAAGCACCGGCTAACTCCGTGCCAGCAGCCGCGGTAATACGGAGGGTGCGAGCGTTAATCGGAATTACTGGGCGTAAAGCGCATGCAGGCGGTTGATTAAGCGAGATGTGAAAGCCCCGGGCTCAACCTGGGAACTGCATTTCGAACTGGTCAACTAGAGTGTGATAGAGGGTGGTAGAATTTCAGGTGTAGCGGTGAAATGCGTAGAGATCTGAAGGAATACCGATGGCGAAGGCAGCCACCTGGGTCAACACTGACGCTCATGTACGAAAGCGTGGGGAGCAAACAGGATTAGATACCCTGGTAGTCCACGCCGTAAACGATGTCTACTAGAAGCTGGGGTCCTCGACAACTTTTTCAAAGCTAACGCATTAAGTAGACCGCCTGGGGAGTACGTCGCAAGTTAAAACTCAAATGAATTGACGGGGGCCCGCACAAGCGTGGAGCATGTGGTTTAATTCGATGCAACGCGAAGAAGAAGGCCTACCTTGACATCCAGAGAAATCGCTAGAGATAGCTTTGTGCCTTCGGGAACTCTGAGACAGGTGCTGCATGGCTGTCGTCAGCTCGTGTTGTGAGATGTTGGGTTAAGTCCCGCAACGAGCGCAACCCCTATCCTTAGTTGCCAGCGAGTAATGTCGGGAACTCTAAGGAGACTGCCGGTGATAAACCGGAGGAAGGTGGGGACGACGTCAAGTCATCATGGCCCTTACGTGTAGGGCTACACACGTGCTACAATGGCGAGTACAGAGGGCAGCAAGCTAGCGATAGTGAGCGAATCCTTAAAAGCTCGTCGTAGTCCGGATTGGAGTCTGCAACTCGACTCCATGAAGTCGGAATCGCTAGTAATCCTAAATCAGAATGTTGTGCGAATACGTTCCCGGGCCTTGTACACACCGCCCG', np.uint8)\n",
    "#seq = np.frombuffer(b'TATCACTTTTGAACTTGATGAAAGGATTGATAAAGTACTTAATGAGAAGTGCTCTGCCTATACAGTTGAACTCGGTACAGAAGTAAATGAGTTCGCCTGTGTTGTGGCAGATGCTGTCATAAAAACTTTGCAACCAGTATCTGAATTAC', np.uint8)"
   ]
  },
  {
   "cell_type": "markdown",
   "metadata": {},
   "source": [
    "## Task 3: transfer learning to a new classification task\n",
    "\n",
    "We will turn to studying 16S sequences on only two types of Bacillales.\n",
    "\n",
    "Might remove this because it's more concepts to introduce this late in the exercise to basically just wait for fit and then examine it in the same way as Task 2."
   ]
  },
  {
   "cell_type": "code",
   "execution_count": 28,
   "metadata": {},
   "outputs": [],
   "source": [
    "%%bash\n",
    "wget https://github.com/danr/rnn/raw/main/Bacillales-{test,train}.csv.gz --no-verbose --no-clobber"
   ]
  },
  {
   "cell_type": "code",
   "execution_count": 29,
   "metadata": {},
   "outputs": [],
   "source": [
    "B_train = pd.read_csv('./Bacillales-train.csv.gz')\n",
    "B_test = pd.read_csv('./Bacillales-test.csv.gz')"
   ]
  },
  {
   "cell_type": "code",
   "execution_count": 30,
   "metadata": {},
   "outputs": [
    {
     "data": {
      "text/html": [
       "<div>\n",
       "<style scoped>\n",
       "    .dataframe tbody tr th:only-of-type {\n",
       "        vertical-align: middle;\n",
       "    }\n",
       "\n",
       "    .dataframe tbody tr th {\n",
       "        vertical-align: top;\n",
       "    }\n",
       "\n",
       "    .dataframe thead th {\n",
       "        text-align: right;\n",
       "    }\n",
       "</style>\n",
       "<table border=\"1\" class=\"dataframe\">\n",
       "  <thead>\n",
       "    <tr style=\"text-align: right;\">\n",
       "      <th></th>\n",
       "      <th>class</th>\n",
       "      <th>seq</th>\n",
       "      <th>family</th>\n",
       "    </tr>\n",
       "  </thead>\n",
       "  <tbody>\n",
       "    <tr>\n",
       "      <th>0</th>\n",
       "      <td>1</td>\n",
       "      <td>AAGGCTTGAGTGCAGAAGAGGAGAGTGGAATTCCACGTGTAGCGGT...</td>\n",
       "      <td>Paenibacillaceae</td>\n",
       "    </tr>\n",
       "    <tr>\n",
       "      <th>1</th>\n",
       "      <td>1</td>\n",
       "      <td>GGGGAGCAAACAGGATTAGATACCCTGGTAGTCCACGCCGTAAACG...</td>\n",
       "      <td>Paenibacillaceae</td>\n",
       "    </tr>\n",
       "    <tr>\n",
       "      <th>2</th>\n",
       "      <td>1</td>\n",
       "      <td>AGAAAGCCACGGCTAACTACGTGCCAGCAGCCGCGGTAATACGTAG...</td>\n",
       "      <td>Paenibacillaceae</td>\n",
       "    </tr>\n",
       "    <tr>\n",
       "      <th>3</th>\n",
       "      <td>0</td>\n",
       "      <td>GATGGGCCCGCGGCGCATTAGTTAGTTGGTGAGGTAAAGGCTCACC...</td>\n",
       "      <td>Bacillaceae</td>\n",
       "    </tr>\n",
       "    <tr>\n",
       "      <th>4</th>\n",
       "      <td>0</td>\n",
       "      <td>CGATGAGTGCTAGGTGTTAGGGGGTTTCCGCCCCTTAGTGCTGAAG...</td>\n",
       "      <td>Bacillaceae</td>\n",
       "    </tr>\n",
       "  </tbody>\n",
       "</table>\n",
       "</div>"
      ],
      "text/plain": [
       "   class                                                seq            family\n",
       "0      1  AAGGCTTGAGTGCAGAAGAGGAGAGTGGAATTCCACGTGTAGCGGT...  Paenibacillaceae\n",
       "1      1  GGGGAGCAAACAGGATTAGATACCCTGGTAGTCCACGCCGTAAACG...  Paenibacillaceae\n",
       "2      1  AGAAAGCCACGGCTAACTACGTGCCAGCAGCCGCGGTAATACGTAG...  Paenibacillaceae\n",
       "3      0  GATGGGCCCGCGGCGCATTAGTTAGTTGGTGAGGTAAAGGCTCACC...       Bacillaceae\n",
       "4      0  CGATGAGTGCTAGGTGTTAGGGGGTTTCCGCCCCTTAGTGCTGAAG...       Bacillaceae"
      ]
     },
     "execution_count": 30,
     "metadata": {},
     "output_type": "execute_result"
    }
   ],
   "source": [
    "B_train.head()"
   ]
  },
  {
   "cell_type": "code",
   "execution_count": 31,
   "metadata": {},
   "outputs": [
    {
     "data": {
      "text/plain": [
       "((262144, 100), (262144, 100))"
      ]
     },
     "execution_count": 31,
     "metadata": {},
     "output_type": "execute_result"
    }
   ],
   "source": [
    "XB_train = bytes2array(B_train.seq.astype('bytes').values)\n",
    "XB_test  = bytes2array(B_test.seq.astype('bytes').values)\n",
    "XB_train.shape, XB_test.shape"
   ]
  },
  {
   "cell_type": "markdown",
   "metadata": {},
   "source": [
    "**Question:** Are the array shapes the expected shapes?"
   ]
  },
  {
   "cell_type": "markdown",
   "metadata": {},
   "source": [
    "You can view the bytes of a single sequence with `.tobytes`:"
   ]
  },
  {
   "cell_type": "code",
   "execution_count": 32,
   "metadata": {},
   "outputs": [
    {
     "data": {
      "text/plain": [
       "b'AAGGCTTGAGTGCAGAAGAGGAGAGTGGAATTCCACGTGTAGCGGTGAAATGCGTAGAGATGTGGAGGAACACCAGTGGCGAAGGCGACTCTCTGGGCTG'"
      ]
     },
     "execution_count": 32,
     "metadata": {},
     "output_type": "execute_result"
    }
   ],
   "source": [
    "XB_train[0].tobytes()"
   ]
  },
  {
   "cell_type": "markdown",
   "metadata": {},
   "source": [
    "**Question:** Is this an actual sequence from the training data csv file?"
   ]
  },
  {
   "cell_type": "markdown",
   "metadata": {},
   "source": [
    "Create the label arrays."
   ]
  },
  {
   "cell_type": "code",
   "execution_count": 33,
   "metadata": {},
   "outputs": [
    {
     "data": {
      "text/plain": [
       "((262144,), (262144,))"
      ]
     },
     "execution_count": 33,
     "metadata": {},
     "output_type": "execute_result"
    }
   ],
   "source": [
    "YB_train = B_train['class'].values\n",
    "YB_test  = B_test['class'].values\n",
    "YB_train.shape, YB_test.shape"
   ]
  },
  {
   "cell_type": "markdown",
   "metadata": {},
   "source": [
    "**Question:** Are the shapes correct?"
   ]
  },
  {
   "cell_type": "markdown",
   "metadata": {},
   "source": [
    "A simple way to get some stats for the labels is to convert them to a `pd.Series` and `.describe()` it. Another way is to plot `.hist()`."
   ]
  },
  {
   "cell_type": "code",
   "execution_count": 34,
   "metadata": {},
   "outputs": [
    {
     "data": {
      "text/plain": [
       "count    262144.000000\n",
       "mean          0.500000\n",
       "std           0.500001\n",
       "min           0.000000\n",
       "25%           0.000000\n",
       "50%           0.500000\n",
       "75%           1.000000\n",
       "max           1.000000\n",
       "dtype: float64"
      ]
     },
     "execution_count": 34,
     "metadata": {},
     "output_type": "execute_result"
    },
    {
     "data": {
      "image/png": "[encoded data removed]",
      "text/plain": [
       "<Figure size 576x576 with 1 Axes>"
      ]
     },
     "metadata": {},
     "output_type": "display_data"
    }
   ],
   "source": [
    "pd.Series(YB_train).hist()\n",
    "pd.Series(YB_train).describe()"
   ]
  },
  {
   "cell_type": "code",
   "execution_count": 79,
   "metadata": {},
   "outputs": [
    {
     "name": "stdout",
     "output_type": "stream",
     "text": [
      "Model: \"model_8\"\n",
      "_________________________________________________________________\n",
      "Layer (type)                 Output Shape              Param #   \n",
      "=================================================================\n",
      "input_9 (InputLayer)         [(None, None)]            0         \n",
      "_________________________________________________________________\n",
      "embedding_8 (Embedding)      (None, None, 8)           1024      \n",
      "_________________________________________________________________\n",
      "bidirectional_16 (Bidirectio (None, None, 64)          10496     \n",
      "_________________________________________________________________\n",
      "bidirectional_17 (Bidirectio (None, 64)                24832     \n",
      "_________________________________________________________________\n",
      "dense_8 (Dense)              (None, 10)                650       \n",
      "=================================================================\n",
      "Total params: 37,002\n",
      "Trainable params: 37,002\n",
      "Non-trainable params: 0\n",
      "_________________________________________________________________\n"
     ]
    }
   ],
   "source": [
    "MB = load_pretrained()"
   ]
  },
  {
   "cell_type": "code",
   "execution_count": 77,
   "metadata": {},
   "outputs": [
    {
     "name": "stdout",
     "output_type": "stream",
     "text": [
      "1000/1000 [==============================] - 1s 1ms/sample - loss: 8.3111 - acc: 0.4950\n"
     ]
    },
    {
     "data": {
      "text/plain": [
       "[8.311069358825684, 0.495]"
      ]
     },
     "execution_count": 77,
     "metadata": {},
     "output_type": "execute_result"
    }
   ],
   "source": [
    "MB.evaluate(XB_test[:1000], YB_test[:1000])"
   ]
  },
  {
   "cell_type": "code",
   "execution_count": 80,
   "metadata": {},
   "outputs": [
    {
     "data": {
      "text/plain": [
       "<tf.Variable 'UnreadVariable' shape=(10,) dtype=float32, numpy=\n",
       "array([  -0.7263175,   -1.3044032, -100.       , -100.       ,\n",
       "       -100.       , -100.       , -100.       , -100.       ,\n",
       "       -100.       , -100.       ], dtype=float32)>"
      ]
     },
     "execution_count": 80,
     "metadata": {},
     "output_type": "execute_result"
    }
   ],
   "source": [
    "MB.layers[-1].bias[2:].assign([-100] * 8)"
   ]
  },
  {
   "cell_type": "code",
   "execution_count": 81,
   "metadata": {},
   "outputs": [
    {
     "name": "stdout",
     "output_type": "stream",
     "text": [
      "Train on 50000 samples, validate on 1000 samples\n",
      "50000/50000 [==============================] - 60s 1ms/sample - loss: 0.2645 - acc: 0.8986 - val_loss: 0.1169 - val_acc: 0.9580\n"
     ]
    },
    {
     "data": {
      "text/plain": [
       "<tensorflow.python.keras.callbacks.History at 0x7f56096fb630>"
      ]
     },
     "execution_count": 81,
     "metadata": {},
     "output_type": "execute_result"
    }
   ],
   "source": [
    "MB.fit(XB_train[:50000], YB_train[:50000], epochs=1, validation_data=(XB_test[:1000], YB_test[:1000]))"
   ]
  },
  {
   "cell_type": "code",
   "execution_count": 82,
   "metadata": {},
   "outputs": [
    {
     "name": "stdout",
     "output_type": "stream",
     "text": [
      "b'GTGGGGAGCAAACAGGATTAGATACCCTGGTAGTCCACGCCCTAAACGATGTCAACTAGTTGTCGGGTCTTCATTGACTTGGTAACGTAGCTAACGCGTG' 7\n"
     ]
    },
    {
     "data": {
      "text/plain": [
       "<matplotlib.axes._subplots.AxesSubplot at 0x7f561daa99b0>"
      ]
     },
     "execution_count": 82,
     "metadata": {},
     "output_type": "execute_result"
    },
    {
     "data": {
      "image/png": "[encoded data removed]",
      "text/plain": [
       "<Figure size 576x576 with 2 Axes>"
      ]
     },
     "metadata": {},
     "output_type": "display_data"
    }
   ],
   "source": [
    "seq = X_test[0].tobytes()\n",
    "print(seq, Y_test[0])\n",
    "sns.set(rc={'figure.figsize': (8, 8), \n",
    "            'font.family': 'monospace'})\n",
    "sseq = slide(seq, 30, step=2)  # Increase step if the output is too small\n",
    "sns.heatmap(MB.predict(bytes2array(sseq)), \n",
    "            yticklabels=sseq, \n",
    "            square=True, vmin=0, vmax=1)"
   ]
  },
  {
   "cell_type": "code",
   "execution_count": 83,
   "metadata": {},
   "outputs": [
    {
     "name": "stdout",
     "output_type": "stream",
     "text": [
      "b'GTTGCCAGGGAAGAAGGCTAGGGAGAGTGGAAAGCTCTTTAGTTGACGGTACCTGAGAAGAAAGCCCCGGCTAACTACGTGCCAGCAGCCGCGGTAATAC' 1\n"
     ]
    },
    {
     "data": {
      "text/plain": [
       "<matplotlib.axes._subplots.AxesSubplot at 0x7f561d694320>"
      ]
     },
     "execution_count": 83,
     "metadata": {},
     "output_type": "execute_result"
    },
    {
     "data": {
      "image/png": "[encoded data removed]",
      "text/plain": [
       "<Figure size 576x576 with 2 Axes>"
      ]
     },
     "metadata": {},
     "output_type": "display_data"
    }
   ],
   "source": [
    "seq = XB_test[0].tobytes()\n",
    "print(seq, YB_test[0])\n",
    "sns.set(rc={'figure.figsize': (8, 8), \n",
    "            'font.family': 'monospace'})\n",
    "sseq = slide(seq, 30, step=2)  # Increase step if the output is too small\n",
    "sns.heatmap(MB.predict(bytes2array(sseq)), \n",
    "            yticklabels=sseq, \n",
    "            square=True, vmin=0, vmax=1)"
   ]
  },
  {
   "cell_type": "markdown",
   "metadata": {},
   "source": [
    "## Appendix: drawing confusion matrices\n",
    "\n",
    "This is some code I had lying around while experimenting. Might not be useful."
   ]
  },
  {
   "cell_type": "code",
   "execution_count": null,
   "metadata": {},
   "outputs": [],
   "source": [
    "cm = pd.crosstab(Y_test, P.argmax(axis=1), rownames=['target'], colnames=['pred'])"
   ]
  },
  {
   "cell_type": "code",
   "execution_count": null,
   "metadata": {},
   "outputs": [],
   "source": [
    "cm = cm.rename(index=dict(enumerate(classes)), columns=dict(enumerate(classes)))"
   ]
  },
  {
   "cell_type": "code",
   "execution_count": null,
   "metadata": {},
   "outputs": [],
   "source": [
    "sns.heatmap(cm, square=True, cmap='Blues')"
   ]
  },
  {
   "cell_type": "code",
   "execution_count": null,
   "metadata": {},
   "outputs": [],
   "source": []
  }
 ],
 "metadata": {
  "kernelspec": {
   "display_name": "Python 3",
   "language": "python",
   "name": "python3"
  },
  "language_info": {
   "codemirror_mode": {
    "name": "ipython",
    "version": 3
   },
   "file_extension": ".py",
   "mimetype": "text/x-python",
   "name": "python",
   "nbconvert_exporter": "python",
   "pygments_lexer": "ipython3",
   "version": "3.6.9"
  }
 },
 "nbformat": 4,
 "nbformat_minor": 4
}
